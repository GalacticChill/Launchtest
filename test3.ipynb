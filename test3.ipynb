{
 "cells": [
  {
   "cell_type": "code",
   "execution_count": null,
   "metadata": {},
   "outputs": [],
   "source": [
    "pip install pandas "
   ]
  },
  {
   "cell_type": "code",
   "execution_count": null,
   "metadata": {},
   "outputs": [],
   "source": [
    "pip install selenium"
   ]
  },
  {
   "cell_type": "code",
   "execution_count": null,
   "metadata": {},
   "outputs": [],
   "source": [
    "pip install webdriver-manager\n"
   ]
  },
  {
   "cell_type": "code",
   "execution_count": null,
   "metadata": {},
   "outputs": [],
   "source": [
    "import pandas as pd\n",
    "# Import the necessary libraries\n",
    "import pandas as pd\n",
    "\n",
    "# URL of the dataset (you can replace this with any dataset URL you want to work with)\n",
    "url = 'https://raw.githubusercontent.com/datasciencedojo/datasets/master/titanic.csv'\n",
    "\n",
    "# Load the dataset into a DataFrame\n",
    "df = pd.read_csv(url)\n",
    "\n",
    "# Display the first few rows of the dataset\n",
    "print(\"First 5 rows of the dataset:\")\n",
    "print(df.head())\n",
    "\n",
    "# Example of editing the data (changing a value)\n",
    "# Let's change the value of 'Sex' in the first row to 'Female'\n",
    "df.loc[0, 'Sex'] = 'Female'\n",
    "\n",
    "# Display the updated row to confirm the change\n",
    "print(\"\\nFirst row after editing:\")\n",
    "print(df.head(1))  # Print only the first row\n",
    "\n",
    "# Example of calculating some basic statistics\n",
    "print(\"\\nBasic statistics of numerical columns:\")\n",
    "print(df.describe())  # Show basic statistics like mean, min, max, etc.\n",
    "\n",
    "# Save the modified DataFrame to a new CSV file\n",
    "df.to_csv('modified_titanic.csv', index=False)\n",
    "print(\"\\nModified dataset saved to 'modified_titanic.csv'\")\n",
    "\n"
   ]
  },
  {
   "cell_type": "code",
   "execution_count": null,
   "metadata": {},
   "outputs": [],
   "source": [
    "pip install beautifulsoup4"
   ]
  },
  {
   "cell_type": "code",
   "execution_count": null,
   "metadata": {},
   "outputs": [],
   "source": [
    "pip install requests beautifulsoup4\n"
   ]
  },
  {
   "cell_type": "code",
   "execution_count": null,
   "metadata": {},
   "outputs": [],
   "source": [
    "from selenium import webdriver\n",
    "from selenium.webdriver.common.by import By\n",
    "from selenium.webdriver.chrome.service import Service\n",
    "from webdriver_manager.chrome import ChromeDriverManager\n",
    "import time\n",
    "\n",
    "# Set up the WebDriver (this example uses Chrome)\n",
    "driver = webdriver.Chrome(service=Service(ChromeDriverManager().install()))\n",
    "\n",
    "# Specify the URL of the website you want to scrape\n",
    "url = 'https://coinmarketcap.com/currencies/ethereum/'\n",
    "\n",
    "# Open the webpage\n",
    "driver.get(url)\n",
    "\n",
    "# Give the page some time to load the dynamic content\n",
    "time.sleep(5)  # Adjust the sleep time if necessary\n",
    "\n",
    "# Print the page source for inspection (optional, you can comment this out)\n",
    "#print(driver.page_source)\n",
    "\n",
    "# Find the price element by the updated class name\n",
    "try:\n",
    "    price_element = driver.find_element(By.CLASS_NAME, 'sc-d1ede7e3-0.fsQm.base-text')\n",
    "    if price_element:\n",
    "        price = price_element.text\n",
    "        print(f'The current price of Ethereum is: {price}')\n",
    "    else:\n",
    "        print('Price element not found.')\n",
    "except Exception as e:\n",
    "    print(f'Error occurred: {e}')\n",
    "\n",
    "# Close the browser\n",
    "driver.quit()\n"
   ]
  }
 ],
 "metadata": {
  "kernelspec": {
   "display_name": "Python 3",
   "language": "python",
   "name": "python3"
  },
  "language_info": {
   "codemirror_mode": {
    "name": "ipython",
    "version": 3
   },
   "file_extension": ".py",
   "mimetype": "text/x-python",
   "name": "python",
   "nbconvert_exporter": "python",
   "pygments_lexer": "ipython3",
   "version": "3.10.7"
  }
 },
 "nbformat": 4,
 "nbformat_minor": 2
}
